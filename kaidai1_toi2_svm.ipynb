{
 "cells": [
  {
   "cell_type": "markdown",
   "metadata": {},
   "source": [
    "# 課題１\n",
    "## 問２\n",
    "### SVMを用いた場合"
   ]
  },
  {
   "cell_type": "code",
   "execution_count": 1,
   "metadata": {},
   "outputs": [],
   "source": [
    "import pandas as pd\n",
    "import numpy as np\n",
    "from pandas import DataFrame\n",
    "from sklearn.model_selection import train_test_split\n",
    "from sklearn.model_selection import cross_val_score\n",
    "\n",
    "#データを読み込む\n",
    "covtype = pd.read_csv(\"https://archive.ics.uci.edu/ml/machine-learning-databases/covtype/covtype.data.gz\", header=None)\n",
    "\n",
    "#説明変数と目的変数に分割\n",
    "X_array=covtype.iloc[:, :-1]\n",
    "y_array= covtype.iloc[:, -1]\n",
    "\n",
    "# scikit-learnの準備\n",
    "from sklearn.model_selection import train_test_split\n",
    "# 訓練データとテストデータに8:2で分割\n",
    "X_train, X_test, y_train, y_test = train_test_split(X_array, y_array, test_size=0.2, random_state=0)\n",
    "\n",
    "from sklearn import datasets, model_selection , svm, metrics\n",
    "model2 = svm.SVC() # 分類器svm\n",
    "\n",
    "#cross validationを行う\n",
    "score2 = cross_val_score(model2, X_array, y_array, scoring='accuracy', cv=5)\n",
    "#各分割での正解率\n",
    "print(score2)\n",
    "#平均の正解率\n",
    "print(score2.mean())\n",
    "\n",
    "model2.fit(X_train, y_train)# モデルを訓練データに適合、モデルにデータを与えて学習させる\n",
    "y_predicted2 = model2.predict(X_test) # テストデータでラベルを予測、テストデータで各データの種類を予測\n",
    "from sklearn.metrics import classification_report\n",
    "print(classification_report(y_test, y_predicted2))# 予測精度（accuracy）の評価\n"
   ]
  }
 ],
 "metadata": {
  "kernelspec": {
   "display_name": "Python 3",
   "language": "python",
   "name": "python3"
  },
  "language_info": {
   "codemirror_mode": {
    "name": "ipython",
    "version": 3
   },
   "file_extension": ".py",
   "mimetype": "text/x-python",
   "name": "python",
   "nbconvert_exporter": "python",
   "pygments_lexer": "ipython3",
   "version": "3.8.5"
  }
 },
 "nbformat": 4,
 "nbformat_minor": 4
}
