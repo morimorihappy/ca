{
 "cells": [
  {
   "cell_type": "markdown",
   "metadata": {},
   "source": [
    "# 課題1\n",
    "## 問１"
   ]
  },
  {
   "cell_type": "code",
   "execution_count": 1,
   "metadata": {},
   "outputs": [],
   "source": [
    "import pandas as pd\n",
    "import numpy as np\n",
    "from pandas import DataFrame\n",
    "from sklearn.model_selection import train_test_split\n",
    "from sklearn.model_selection import cross_val_score"
   ]
  },
  {
   "cell_type": "code",
   "execution_count": 2,
   "metadata": {},
   "outputs": [],
   "source": [
    "#データを読み込む\n",
    "covtype = pd.read_csv(\"https://archive.ics.uci.edu/ml/machine-learning-databases/covtype/covtype.data.gz\", header=None)"
   ]
  },
  {
   "cell_type": "code",
   "execution_count": 3,
   "metadata": {},
   "outputs": [],
   "source": [
    "#説明変数と目的変数に分割\n",
    "X_array=covtype.iloc[:, :-1]\n",
    "y_array= covtype.iloc[:, -1]"
   ]
  },
  {
   "cell_type": "code",
   "execution_count": 4,
   "metadata": {},
   "outputs": [
    {
     "name": "stdout",
     "output_type": "stream",
     "text": [
      "0\n",
      "1\n",
      "2\n",
      "3\n",
      "4\n",
      "5\n",
      "6\n",
      "7\n",
      "8\n",
      "9\n",
      "10\n",
      "11\n",
      "12\n",
      "13\n",
      "14\n",
      "15\n",
      "16\n",
      "17\n",
      "18\n",
      "19\n",
      "20\n",
      "21\n",
      "22\n",
      "23\n",
      "24\n",
      "25\n",
      "26\n",
      "27\n",
      "28\n",
      "29\n",
      "30\n",
      "31\n",
      "32\n",
      "33\n",
      "34\n",
      "35\n",
      "36\n",
      "37\n",
      "38\n",
      "39\n",
      "40\n",
      "41\n",
      "42\n",
      "43\n",
      "44\n",
      "45\n",
      "46\n",
      "47\n",
      "48\n",
      "49\n",
      "50\n",
      "51\n",
      "52\n",
      "53\n"
     ]
    }
   ],
   "source": [
    "#説明変数の出力\n",
    "for i in X_array:print(i) "
   ]
  },
  {
   "cell_type": "code",
   "execution_count": 5,
   "metadata": {},
   "outputs": [
    {
     "name": "stdout",
     "output_type": "stream",
     "text": [
      "0         5\n",
      "1         5\n",
      "2         2\n",
      "3         2\n",
      "4         5\n",
      "         ..\n",
      "581007    3\n",
      "581008    3\n",
      "581009    3\n",
      "581010    3\n",
      "581011    3\n",
      "Name: 54, Length: 581012, dtype: int64\n"
     ]
    }
   ],
   "source": [
    "#目的変数の出力\n",
    "print(y_array)"
   ]
  },
  {
   "cell_type": "code",
   "execution_count": 6,
   "metadata": {},
   "outputs": [],
   "source": [
    "# scikit-learnの準備\n",
    "from sklearn.model_selection import train_test_split\n",
    "# 訓練データとテストデータに8:2で分割\n",
    "X_train, X_test, y_train, y_test = train_test_split(X_array, y_array, test_size=0.2, random_state=0)"
   ]
  },
  {
   "cell_type": "code",
   "execution_count": 7,
   "metadata": {},
   "outputs": [
    {
     "name": "stdout",
     "output_type": "stream",
     "text": [
      "[0.62968254 0.55739525 0.54869107 0.60290701 0.63510955]\n",
      "0.5947570832209664\n"
     ]
    }
   ],
   "source": [
    "# モデル設定と訓練データを使った学習\n",
    "from sklearn.ensemble import RandomForestClassifier\n",
    "model = RandomForestClassifier()#学習モデルを作成\n",
    "\n",
    "#cross validationを行う\n",
    "score = cross_val_score(model, X_array, y_array, scoring='accuracy', cv=5)\n",
    "#各分割での正解率\n",
    "print(score)\n",
    "#平均の正解率\n",
    "print(score.mean())"
   ]
  },
  {
   "cell_type": "code",
   "execution_count": 8,
   "metadata": {},
   "outputs": [
    {
     "name": "stdout",
     "output_type": "stream",
     "text": [
      "              precision    recall  f1-score   support\n",
      "\n",
      "           1       0.96      0.94      0.95     42212\n",
      "           2       0.95      0.97      0.96     56849\n",
      "           3       0.95      0.96      0.95      7094\n",
      "           4       0.91      0.86      0.88       569\n",
      "           5       0.94      0.78      0.85      1886\n",
      "           6       0.94      0.91      0.92      3502\n",
      "           7       0.98      0.95      0.96      4091\n",
      "\n",
      "    accuracy                           0.96    116203\n",
      "   macro avg       0.95      0.91      0.93    116203\n",
      "weighted avg       0.96      0.96      0.96    116203\n",
      "\n"
     ]
    }
   ],
   "source": [
    "model.fit(X_train, y_train)# モデルを訓練データに適合、モデルにデータを与えて学習させる\n",
    "y_predicted = model.predict(X_test) # テストデータでラベルを予測、テストデータで各データの種類を予測\n",
    "from sklearn.metrics import classification_report\n",
    "print(classification_report(y_test, y_predicted))# 予測精度（accuracy）の評価"
   ]
  }
 ],
 "metadata": {
  "kernelspec": {
   "display_name": "Python 3",
   "language": "python",
   "name": "python3"
  },
  "language_info": {
   "codemirror_mode": {
    "name": "ipython",
    "version": 3
   },
   "file_extension": ".py",
   "mimetype": "text/x-python",
   "name": "python",
   "nbconvert_exporter": "python",
   "pygments_lexer": "ipython3",
   "version": "3.8.5"
  }
 },
 "nbformat": 4,
 "nbformat_minor": 4
}
