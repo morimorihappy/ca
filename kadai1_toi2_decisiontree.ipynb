{
 "cells": [
  {
   "cell_type": "markdown",
   "metadata": {},
   "source": [
    "# 課題１\n",
    "## 問２\n",
    "### 決定木を用いた場合"
   ]
  },
  {
   "cell_type": "code",
   "execution_count": 1,
   "metadata": {},
   "outputs": [],
   "source": [
    "import pandas as pd\n",
    "import numpy as np\n",
    "from pandas import DataFrame\n",
    "from sklearn.model_selection import train_test_split\n",
    "from sklearn.model_selection import cross_val_score"
   ]
  },
  {
   "cell_type": "code",
   "execution_count": 2,
   "metadata": {},
   "outputs": [],
   "source": [
    "#データを読み込む\n",
    "covtype = pd.read_csv(\"https://archive.ics.uci.edu/ml/machine-learning-databases/covtype/covtype.data.gz\", header=None)"
   ]
  },
  {
   "cell_type": "code",
   "execution_count": 3,
   "metadata": {},
   "outputs": [],
   "source": [
    "#説明変数と目的変数に分割\n",
    "X_array=covtype.iloc[:, :-1]\n",
    "y_array= covtype.iloc[:, -1]"
   ]
  },
  {
   "cell_type": "code",
   "execution_count": 4,
   "metadata": {},
   "outputs": [],
   "source": [
    "# scikit-learnの準備\n",
    "from sklearn.model_selection import train_test_split\n",
    "# 訓練データとテストデータに8:2で分割\n",
    "X_train, X_test, y_train, y_test = train_test_split(X_array, y_array, test_size=0.2, random_state=0)"
   ]
  },
  {
   "cell_type": "code",
   "execution_count": 5,
   "metadata": {},
   "outputs": [
    {
     "name": "stdout",
     "output_type": "stream",
     "text": [
      "[0.51570958 0.57239486 0.5233817  0.5696976  0.60359546]\n",
      "0.556955838790317\n"
     ]
    }
   ],
   "source": [
    "# モデル設定と訓練データを使った学習\n",
    "from sklearn import tree\n",
    "model = tree.DecisionTreeClassifier()#学習モデルを作成\n",
    "\n",
    "#cross validationを行う\n",
    "score = cross_val_score(model, X_array, y_array, scoring='accuracy', cv=5)\n",
    "#各分割での正解率\n",
    "print(score)\n",
    "#平均の正解率\n",
    "print(score.mean())"
   ]
  },
  {
   "cell_type": "code",
   "execution_count": 6,
   "metadata": {},
   "outputs": [
    {
     "name": "stdout",
     "output_type": "stream",
     "text": [
      "              precision    recall  f1-score   support\n",
      "\n",
      "           1       0.94      0.94      0.94     42212\n",
      "           2       0.95      0.95      0.95     56849\n",
      "           3       0.93      0.93      0.93      7094\n",
      "           4       0.85      0.82      0.83       569\n",
      "           5       0.83      0.83      0.83      1886\n",
      "           6       0.88      0.88      0.88      3502\n",
      "           7       0.95      0.95      0.95      4091\n",
      "\n",
      "    accuracy                           0.94    116203\n",
      "   macro avg       0.90      0.90      0.90    116203\n",
      "weighted avg       0.94      0.94      0.94    116203\n",
      "\n"
     ]
    }
   ],
   "source": [
    "model.fit(X_train, y_train)# モデルを訓練データに適合、モデルにデータを与えて学習させる\n",
    "y_predicted = model.predict(X_test) # テストデータでラベルを予測、テストデータで各データの種類を予測\n",
    "from sklearn.metrics import classification_report\n",
    "print(classification_report(y_test, y_predicted))# 予測精度（accuracy）の評価"
   ]
  }
 ],
 "metadata": {
  "kernelspec": {
   "display_name": "Python 3",
   "language": "python",
   "name": "python3"
  },
  "language_info": {
   "codemirror_mode": {
    "name": "ipython",
    "version": 3
   },
   "file_extension": ".py",
   "mimetype": "text/x-python",
   "name": "python",
   "nbconvert_exporter": "python",
   "pygments_lexer": "ipython3",
   "version": "3.8.5"
  }
 },
 "nbformat": 4,
 "nbformat_minor": 4
}
