{
 "cells": [
  {
   "cell_type": "code",
   "execution_count": 1,
   "metadata": {},
   "outputs": [],
   "source": [
    "import pandas as pd\n",
    "import numpy as np\n",
    "from pandas import DataFrame\n",
    "from sklearn.model_selection import train_test_split\n",
    "from sklearn.model_selection import cross_val_score\n",
    "from sklearn.decomposition import PCA"
   ]
  },
  {
   "cell_type": "code",
   "execution_count": 2,
   "metadata": {},
   "outputs": [],
   "source": [
    "#データを読み込む\n",
    "covtype = pd.read_csv(\"https://archive.ics.uci.edu/ml/machine-learning-databases/covtype/covtype.data.gz\", header=None)"
   ]
  },
  {
   "cell_type": "code",
   "execution_count": 3,
   "metadata": {},
   "outputs": [],
   "source": [
    "#説明変数と目的変数に分割\n",
    "X_array=covtype.iloc[:, :-1]\n",
    "y_array= covtype.iloc[:, -1]"
   ]
  },
  {
   "cell_type": "code",
   "execution_count": 4,
   "metadata": {},
   "outputs": [],
   "source": [
    "pca = PCA(n_components=2)\n",
    "#モデルのパラメータをfitして取得しPCAオブジェクトへ格納\n",
    "pca.fit(X_array)\n",
    "X_array_new= pca.transform(X_array)"
   ]
  },
  {
   "cell_type": "code",
   "execution_count": 5,
   "metadata": {},
   "outputs": [],
   "source": [
    "# scikit-learnの準備\n",
    "from sklearn.model_selection import train_test_split\n",
    "# 訓練データとテストデータに8:2で分割\n",
    "X_train, X_test, y_train, y_test = train_test_split(X_array_new, y_array, test_size=0.2, random_state=0)"
   ]
  },
  {
   "cell_type": "code",
   "execution_count": 6,
   "metadata": {},
   "outputs": [
    {
     "name": "stdout",
     "output_type": "stream",
     "text": [
      "[0.62711806 0.55684449 0.54912136 0.60008434 0.63558286]\n",
      "0.5937502212310488\n"
     ]
    }
   ],
   "source": [
    "# モデル設定と訓練データを使った学習\n",
    "from sklearn.ensemble import RandomForestClassifier\n",
    "model = RandomForestClassifier()#学習モデルを作成\n",
    "\n",
    "#cross validationを行う\n",
    "score = cross_val_score(model, X_array, y_array, scoring='accuracy', cv=5)\n",
    "#各分割での正解率\n",
    "print(score)\n",
    "#平均の正解率\n",
    "print(score.mean())"
   ]
  },
  {
   "cell_type": "code",
   "execution_count": 7,
   "metadata": {},
   "outputs": [
    {
     "name": "stdout",
     "output_type": "stream",
     "text": [
      "              precision    recall  f1-score   support\n",
      "\n",
      "           1       0.47      0.46      0.47     42212\n",
      "           2       0.56      0.63      0.59     56849\n",
      "           3       0.32      0.26      0.29      7094\n",
      "           4       0.14      0.05      0.08       569\n",
      "           5       0.20      0.08      0.11      1886\n",
      "           6       0.18      0.09      0.12      3502\n",
      "           7       0.18      0.08      0.11      4091\n",
      "\n",
      "    accuracy                           0.50    116203\n",
      "   macro avg       0.29      0.24      0.25    116203\n",
      "weighted avg       0.48      0.50      0.49    116203\n",
      "\n"
     ]
    }
   ],
   "source": [
    "model.fit(X_train, y_train)# モデルを訓練データに適合、モデルにデータを与えて学習させる\n",
    "y_predicted = model.predict(X_test) # テストデータでラベルを予測、テストデータで各データの種類を予測\n",
    "from sklearn.metrics import classification_report\n",
    "print(classification_report(y_test, y_predicted))# 予測精度（accuracy）の評価\n"
   ]
  },
  {
   "cell_type": "code",
   "execution_count": null,
   "metadata": {},
   "outputs": [],
   "source": []
  }
 ],
 "metadata": {
  "kernelspec": {
   "display_name": "Python 3",
   "language": "python",
   "name": "python3"
  },
  "language_info": {
   "codemirror_mode": {
    "name": "ipython",
    "version": 3
   },
   "file_extension": ".py",
   "mimetype": "text/x-python",
   "name": "python",
   "nbconvert_exporter": "python",
   "pygments_lexer": "ipython3",
   "version": "3.8.5"
  }
 },
 "nbformat": 4,
 "nbformat_minor": 4
}
